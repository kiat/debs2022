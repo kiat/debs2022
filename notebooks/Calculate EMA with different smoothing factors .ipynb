{
 "cells": [
  {
   "cell_type": "code",
   "execution_count": 1,
   "metadata": {},
   "outputs": [],
   "source": [
    "import pandas as pd\n",
    "import numpy as np\n",
    "import matplotlib.pyplot as plt\n",
    "\n",
    "import warnings\n",
    "warnings.filterwarnings('ignore')"
   ]
  },
  {
   "cell_type": "code",
   "execution_count": 2,
   "metadata": {},
   "outputs": [],
   "source": [
    "data = pd.read_csv(\"../dataset/debs-2022-gc-test-set-trading.csv.bz2\", compression='bz2')"
   ]
  },
  {
   "cell_type": "code",
   "execution_count": 3,
   "metadata": {},
   "outputs": [
    {
     "data": {
      "text/plain": [
       "Index(['FREN4.FR', 'INC2U.FR', 'CBOT.FR', 'LC1EP.FR', 'IEMIM.FR', 'ICEUU.FR',\n",
       "       'MLCMI.FR', 'I2GS.FR', 'QDT.FR', 'INDAX.FR',\n",
       "       ...\n",
       "       'A1EX2G.ETR', 'A2GTB4.ETR', 'A1EXZC.ETR', 'A1EX2Y.ETR', 'A1EX2L.ETR',\n",
       "       'A2GTCD.ETR', 'A1EX2E.ETR', 'A1EXZE.ETR', 'A1EX2J.ETR', 'A2GTCC.ETR'],\n",
       "      dtype='object', length=999998)"
      ]
     },
     "execution_count": 3,
     "metadata": {},
     "output_type": "execute_result"
    }
   ],
   "source": [
    "data.index"
   ]
  },
  {
   "cell_type": "code",
   "execution_count": 4,
   "metadata": {},
   "outputs": [
    {
     "data": {
      "text/html": [
       "<div>\n",
       "<style scoped>\n",
       "    .dataframe tbody tr th:only-of-type {\n",
       "        vertical-align: middle;\n",
       "    }\n",
       "\n",
       "    .dataframe tbody tr th {\n",
       "        vertical-align: top;\n",
       "    }\n",
       "\n",
       "    .dataframe thead th {\n",
       "        text-align: right;\n",
       "    }\n",
       "</style>\n",
       "<table border=\"1\" class=\"dataframe\">\n",
       "  <thead>\n",
       "    <tr style=\"text-align: right;\">\n",
       "      <th></th>\n",
       "      <th>ID</th>\n",
       "      <th>SecType</th>\n",
       "      <th>Date</th>\n",
       "      <th>Time</th>\n",
       "      <th>Ask</th>\n",
       "      <th>Ask volume</th>\n",
       "      <th>Bid</th>\n",
       "      <th>Bid volume</th>\n",
       "      <th>Ask time</th>\n",
       "      <th>Day's high ask</th>\n",
       "      <th>...</th>\n",
       "      <th>Nominal value</th>\n",
       "      <th>Last</th>\n",
       "      <th>Last volume</th>\n",
       "      <th>Trading time</th>\n",
       "      <th>Total volume</th>\n",
       "      <th>Mid price</th>\n",
       "      <th>Trading date</th>\n",
       "      <th>Profit</th>\n",
       "      <th>Current price</th>\n",
       "      <th>Related indices</th>\n",
       "    </tr>\n",
       "  </thead>\n",
       "  <tbody>\n",
       "    <tr>\n",
       "      <th>A1EXZE.ETR</th>\n",
       "      <td>I</td>\n",
       "      <td>08-11-2021</td>\n",
       "      <td>04:54:10.619</td>\n",
       "      <td>NaN</td>\n",
       "      <td>NaN</td>\n",
       "      <td>NaN</td>\n",
       "      <td>NaN</td>\n",
       "      <td>NaN</td>\n",
       "      <td>NaN</td>\n",
       "      <td>0.0</td>\n",
       "      <td>...</td>\n",
       "      <td>0.00</td>\n",
       "      <td>NaN</td>\n",
       "      <td>00:00:00.000</td>\n",
       "      <td>NaN</td>\n",
       "      <td>NaN</td>\n",
       "      <td>NaN</td>\n",
       "      <td>NaN</td>\n",
       "      <td>NaN</td>\n",
       "      <td>NaN</td>\n",
       "      <td>NaN</td>\n",
       "    </tr>\n",
       "    <tr>\n",
       "      <th>A1EXZE.ETR</th>\n",
       "      <td>I</td>\n",
       "      <td>08-11-2021</td>\n",
       "      <td>09:02:44.000</td>\n",
       "      <td>NaN</td>\n",
       "      <td>NaN</td>\n",
       "      <td>NaN</td>\n",
       "      <td>NaN</td>\n",
       "      <td>NaN</td>\n",
       "      <td>NaN</td>\n",
       "      <td>NaN</td>\n",
       "      <td>...</td>\n",
       "      <td>3387.20</td>\n",
       "      <td>NaN</td>\n",
       "      <td>09:02:44.120</td>\n",
       "      <td>NaN</td>\n",
       "      <td>NaN</td>\n",
       "      <td>NaN</td>\n",
       "      <td>NaN</td>\n",
       "      <td>NaN</td>\n",
       "      <td>NaN</td>\n",
       "      <td>NaN</td>\n",
       "    </tr>\n",
       "    <tr>\n",
       "      <th>A1EXZE.ETR</th>\n",
       "      <td>I</td>\n",
       "      <td>08-11-2021</td>\n",
       "      <td>09:02:45.000</td>\n",
       "      <td>NaN</td>\n",
       "      <td>NaN</td>\n",
       "      <td>NaN</td>\n",
       "      <td>NaN</td>\n",
       "      <td>NaN</td>\n",
       "      <td>NaN</td>\n",
       "      <td>NaN</td>\n",
       "      <td>...</td>\n",
       "      <td>3388.83</td>\n",
       "      <td>NaN</td>\n",
       "      <td>09:02:45.120</td>\n",
       "      <td>NaN</td>\n",
       "      <td>NaN</td>\n",
       "      <td>NaN</td>\n",
       "      <td>NaN</td>\n",
       "      <td>NaN</td>\n",
       "      <td>NaN</td>\n",
       "      <td>NaN</td>\n",
       "    </tr>\n",
       "    <tr>\n",
       "      <th>A1EXZE.ETR</th>\n",
       "      <td>I</td>\n",
       "      <td>08-11-2021</td>\n",
       "      <td>09:02:46.000</td>\n",
       "      <td>NaN</td>\n",
       "      <td>NaN</td>\n",
       "      <td>NaN</td>\n",
       "      <td>NaN</td>\n",
       "      <td>NaN</td>\n",
       "      <td>NaN</td>\n",
       "      <td>NaN</td>\n",
       "      <td>...</td>\n",
       "      <td>3391.56</td>\n",
       "      <td>NaN</td>\n",
       "      <td>09:02:46.120</td>\n",
       "      <td>NaN</td>\n",
       "      <td>NaN</td>\n",
       "      <td>NaN</td>\n",
       "      <td>NaN</td>\n",
       "      <td>NaN</td>\n",
       "      <td>NaN</td>\n",
       "      <td>NaN</td>\n",
       "    </tr>\n",
       "    <tr>\n",
       "      <th>A1EXZE.ETR</th>\n",
       "      <td>I</td>\n",
       "      <td>08-11-2021</td>\n",
       "      <td>09:02:47.000</td>\n",
       "      <td>NaN</td>\n",
       "      <td>NaN</td>\n",
       "      <td>NaN</td>\n",
       "      <td>NaN</td>\n",
       "      <td>NaN</td>\n",
       "      <td>NaN</td>\n",
       "      <td>NaN</td>\n",
       "      <td>...</td>\n",
       "      <td>3391.41</td>\n",
       "      <td>NaN</td>\n",
       "      <td>09:02:47.120</td>\n",
       "      <td>NaN</td>\n",
       "      <td>NaN</td>\n",
       "      <td>NaN</td>\n",
       "      <td>NaN</td>\n",
       "      <td>NaN</td>\n",
       "      <td>NaN</td>\n",
       "      <td>NaN</td>\n",
       "    </tr>\n",
       "    <tr>\n",
       "      <th>...</th>\n",
       "      <td>...</td>\n",
       "      <td>...</td>\n",
       "      <td>...</td>\n",
       "      <td>...</td>\n",
       "      <td>...</td>\n",
       "      <td>...</td>\n",
       "      <td>...</td>\n",
       "      <td>...</td>\n",
       "      <td>...</td>\n",
       "      <td>...</td>\n",
       "      <td>...</td>\n",
       "      <td>...</td>\n",
       "      <td>...</td>\n",
       "      <td>...</td>\n",
       "      <td>...</td>\n",
       "      <td>...</td>\n",
       "      <td>...</td>\n",
       "      <td>...</td>\n",
       "      <td>...</td>\n",
       "      <td>...</td>\n",
       "      <td>...</td>\n",
       "    </tr>\n",
       "    <tr>\n",
       "      <th>A1EXZE.ETR</th>\n",
       "      <td>I</td>\n",
       "      <td>08-11-2021</td>\n",
       "      <td>09:20:10.000</td>\n",
       "      <td>NaN</td>\n",
       "      <td>NaN</td>\n",
       "      <td>NaN</td>\n",
       "      <td>NaN</td>\n",
       "      <td>NaN</td>\n",
       "      <td>NaN</td>\n",
       "      <td>NaN</td>\n",
       "      <td>...</td>\n",
       "      <td>3364.56</td>\n",
       "      <td>NaN</td>\n",
       "      <td>09:20:10.470</td>\n",
       "      <td>NaN</td>\n",
       "      <td>NaN</td>\n",
       "      <td>NaN</td>\n",
       "      <td>NaN</td>\n",
       "      <td>NaN</td>\n",
       "      <td>NaN</td>\n",
       "      <td>NaN</td>\n",
       "    </tr>\n",
       "    <tr>\n",
       "      <th>A1EXZE.ETR</th>\n",
       "      <td>I</td>\n",
       "      <td>08-11-2021</td>\n",
       "      <td>09:20:11.000</td>\n",
       "      <td>NaN</td>\n",
       "      <td>NaN</td>\n",
       "      <td>NaN</td>\n",
       "      <td>NaN</td>\n",
       "      <td>NaN</td>\n",
       "      <td>NaN</td>\n",
       "      <td>NaN</td>\n",
       "      <td>...</td>\n",
       "      <td>3364.56</td>\n",
       "      <td>NaN</td>\n",
       "      <td>09:20:11.470</td>\n",
       "      <td>NaN</td>\n",
       "      <td>NaN</td>\n",
       "      <td>NaN</td>\n",
       "      <td>NaN</td>\n",
       "      <td>NaN</td>\n",
       "      <td>NaN</td>\n",
       "      <td>NaN</td>\n",
       "    </tr>\n",
       "    <tr>\n",
       "      <th>A1EXZE.ETR</th>\n",
       "      <td>I</td>\n",
       "      <td>08-11-2021</td>\n",
       "      <td>09:20:12.000</td>\n",
       "      <td>NaN</td>\n",
       "      <td>NaN</td>\n",
       "      <td>NaN</td>\n",
       "      <td>NaN</td>\n",
       "      <td>NaN</td>\n",
       "      <td>NaN</td>\n",
       "      <td>NaN</td>\n",
       "      <td>...</td>\n",
       "      <td>3365.25</td>\n",
       "      <td>NaN</td>\n",
       "      <td>09:20:12.470</td>\n",
       "      <td>NaN</td>\n",
       "      <td>NaN</td>\n",
       "      <td>NaN</td>\n",
       "      <td>NaN</td>\n",
       "      <td>NaN</td>\n",
       "      <td>NaN</td>\n",
       "      <td>NaN</td>\n",
       "    </tr>\n",
       "    <tr>\n",
       "      <th>A1EXZE.ETR</th>\n",
       "      <td>I</td>\n",
       "      <td>08-11-2021</td>\n",
       "      <td>09:20:13.000</td>\n",
       "      <td>NaN</td>\n",
       "      <td>NaN</td>\n",
       "      <td>NaN</td>\n",
       "      <td>NaN</td>\n",
       "      <td>NaN</td>\n",
       "      <td>NaN</td>\n",
       "      <td>NaN</td>\n",
       "      <td>...</td>\n",
       "      <td>3365.55</td>\n",
       "      <td>NaN</td>\n",
       "      <td>09:20:13.470</td>\n",
       "      <td>NaN</td>\n",
       "      <td>NaN</td>\n",
       "      <td>NaN</td>\n",
       "      <td>NaN</td>\n",
       "      <td>NaN</td>\n",
       "      <td>NaN</td>\n",
       "      <td>NaN</td>\n",
       "    </tr>\n",
       "    <tr>\n",
       "      <th>A1EXZE.ETR</th>\n",
       "      <td>I</td>\n",
       "      <td>08-11-2021</td>\n",
       "      <td>09:20:14.000</td>\n",
       "      <td>NaN</td>\n",
       "      <td>NaN</td>\n",
       "      <td>NaN</td>\n",
       "      <td>NaN</td>\n",
       "      <td>NaN</td>\n",
       "      <td>NaN</td>\n",
       "      <td>NaN</td>\n",
       "      <td>...</td>\n",
       "      <td>3364.17</td>\n",
       "      <td>NaN</td>\n",
       "      <td>09:20:14.480</td>\n",
       "      <td>NaN</td>\n",
       "      <td>NaN</td>\n",
       "      <td>NaN</td>\n",
       "      <td>NaN</td>\n",
       "      <td>NaN</td>\n",
       "      <td>NaN</td>\n",
       "      <td>NaN</td>\n",
       "    </tr>\n",
       "  </tbody>\n",
       "</table>\n",
       "<p>1051 rows × 30 columns</p>\n",
       "</div>"
      ],
      "text/plain": [
       "           ID     SecType          Date  Time  Ask  Ask volume  Bid  \\\n",
       "A1EXZE.ETR  I  08-11-2021  04:54:10.619   NaN  NaN         NaN  NaN   \n",
       "A1EXZE.ETR  I  08-11-2021  09:02:44.000   NaN  NaN         NaN  NaN   \n",
       "A1EXZE.ETR  I  08-11-2021  09:02:45.000   NaN  NaN         NaN  NaN   \n",
       "A1EXZE.ETR  I  08-11-2021  09:02:46.000   NaN  NaN         NaN  NaN   \n",
       "A1EXZE.ETR  I  08-11-2021  09:02:47.000   NaN  NaN         NaN  NaN   \n",
       "...        ..         ...           ...   ...  ...         ...  ...   \n",
       "A1EXZE.ETR  I  08-11-2021  09:20:10.000   NaN  NaN         NaN  NaN   \n",
       "A1EXZE.ETR  I  08-11-2021  09:20:11.000   NaN  NaN         NaN  NaN   \n",
       "A1EXZE.ETR  I  08-11-2021  09:20:12.000   NaN  NaN         NaN  NaN   \n",
       "A1EXZE.ETR  I  08-11-2021  09:20:13.000   NaN  NaN         NaN  NaN   \n",
       "A1EXZE.ETR  I  08-11-2021  09:20:14.000   NaN  NaN         NaN  NaN   \n",
       "\n",
       "           Bid volume  Ask time  Day's high ask  ...  Nominal value  Last  \\\n",
       "A1EXZE.ETR        NaN       NaN             0.0  ...           0.00   NaN   \n",
       "A1EXZE.ETR        NaN       NaN             NaN  ...        3387.20   NaN   \n",
       "A1EXZE.ETR        NaN       NaN             NaN  ...        3388.83   NaN   \n",
       "A1EXZE.ETR        NaN       NaN             NaN  ...        3391.56   NaN   \n",
       "A1EXZE.ETR        NaN       NaN             NaN  ...        3391.41   NaN   \n",
       "...               ...       ...             ...  ...            ...   ...   \n",
       "A1EXZE.ETR        NaN       NaN             NaN  ...        3364.56   NaN   \n",
       "A1EXZE.ETR        NaN       NaN             NaN  ...        3364.56   NaN   \n",
       "A1EXZE.ETR        NaN       NaN             NaN  ...        3365.25   NaN   \n",
       "A1EXZE.ETR        NaN       NaN             NaN  ...        3365.55   NaN   \n",
       "A1EXZE.ETR        NaN       NaN             NaN  ...        3364.17   NaN   \n",
       "\n",
       "             Last volume  Trading time  Total volume  Mid price  Trading date  \\\n",
       "A1EXZE.ETR  00:00:00.000           NaN           NaN        NaN           NaN   \n",
       "A1EXZE.ETR  09:02:44.120           NaN           NaN        NaN           NaN   \n",
       "A1EXZE.ETR  09:02:45.120           NaN           NaN        NaN           NaN   \n",
       "A1EXZE.ETR  09:02:46.120           NaN           NaN        NaN           NaN   \n",
       "A1EXZE.ETR  09:02:47.120           NaN           NaN        NaN           NaN   \n",
       "...                  ...           ...           ...        ...           ...   \n",
       "A1EXZE.ETR  09:20:10.470           NaN           NaN        NaN           NaN   \n",
       "A1EXZE.ETR  09:20:11.470           NaN           NaN        NaN           NaN   \n",
       "A1EXZE.ETR  09:20:12.470           NaN           NaN        NaN           NaN   \n",
       "A1EXZE.ETR  09:20:13.470           NaN           NaN        NaN           NaN   \n",
       "A1EXZE.ETR  09:20:14.480           NaN           NaN        NaN           NaN   \n",
       "\n",
       "            Profit  Current price  Related indices  \n",
       "A1EXZE.ETR     NaN            NaN              NaN  \n",
       "A1EXZE.ETR     NaN            NaN              NaN  \n",
       "A1EXZE.ETR     NaN            NaN              NaN  \n",
       "A1EXZE.ETR     NaN            NaN              NaN  \n",
       "A1EXZE.ETR     NaN            NaN              NaN  \n",
       "...            ...            ...              ...  \n",
       "A1EXZE.ETR     NaN            NaN              NaN  \n",
       "A1EXZE.ETR     NaN            NaN              NaN  \n",
       "A1EXZE.ETR     NaN            NaN              NaN  \n",
       "A1EXZE.ETR     NaN            NaN              NaN  \n",
       "A1EXZE.ETR     NaN            NaN              NaN  \n",
       "\n",
       "[1051 rows x 30 columns]"
      ]
     },
     "execution_count": 4,
     "metadata": {},
     "output_type": "execute_result"
    }
   ],
   "source": [
    "# Let us grab one example of stocks here, for example 'A1EXZE.ETR'\n",
    "my_stock = data[data.index=='A1EXZE.ETR']\n",
    "\n",
    "# pd.set_option('display.max_rows', None)\n",
    "# pd.set_option('display.max_columns', None)\n",
    "\n",
    "my_stock"
   ]
  },
  {
   "cell_type": "code",
   "execution_count": 5,
   "metadata": {},
   "outputs": [
    {
     "data": {
      "text/plain": [
       "A1EXZE.ETR       0.00\n",
       "A1EXZE.ETR    3387.20\n",
       "A1EXZE.ETR    3388.83\n",
       "A1EXZE.ETR    3391.56\n",
       "A1EXZE.ETR    3391.41\n",
       "               ...   \n",
       "A1EXZE.ETR    3364.56\n",
       "A1EXZE.ETR    3364.56\n",
       "A1EXZE.ETR    3365.25\n",
       "A1EXZE.ETR    3365.55\n",
       "A1EXZE.ETR    3364.17\n",
       "Name: Nominal value, Length: 1051, dtype: float64"
      ]
     },
     "execution_count": 5,
     "metadata": {},
     "output_type": "execute_result"
    }
   ],
   "source": [
    "price = my_stock['Nominal value']\n",
    "price\n",
    "# for i in price:\n",
    "#      print(i)"
   ]
  },
  {
   "cell_type": "code",
   "execution_count": 6,
   "metadata": {},
   "outputs": [
    {
     "data": {
      "text/plain": [
       "array([   0,    1,    2, ..., 1048, 1049, 1050])"
      ]
     },
     "execution_count": 6,
     "metadata": {},
     "output_type": "execute_result"
    }
   ],
   "source": [
    "np.arange(price.size)"
   ]
  },
  {
   "cell_type": "code",
   "execution_count": 7,
   "metadata": {},
   "outputs": [
    {
     "data": {
      "image/png": "[encoded data removed]",
      "text/plain": [
       "<Figure size 1080x360 with 1 Axes>"
      ]
     },
     "metadata": {
      "needs_background": "light"
     },
     "output_type": "display_data"
    }
   ],
   "source": [
    "# make-inline-plots-in-jupyter-notebook-larger\n",
    "plt.rcParams['figure.figsize'] = [15, 5]\n",
    "\n",
    "# We do not start from zero for this visualization \n",
    "plt.plot(np.arange(price.size-1), price[1:], alpha=0.5)\n",
    "plt.show()"
   ]
  },
  {
   "cell_type": "code",
   "execution_count": 8,
   "metadata": {},
   "outputs": [],
   "source": [
    "price_list = list(price)"
   ]
  },
  {
   "cell_type": "markdown",
   "metadata": {},
   "source": [
    "# Query 1 - Calculation of EMA 38 and 100"
   ]
  },
  {
   "cell_type": "code",
   "execution_count": 9,
   "metadata": {},
   "outputs": [
    {
     "name": "stdout",
     "output_type": "stream",
     "text": [
      "1051\n"
     ]
    }
   ],
   "source": [
    "print(price.size)\n",
    "\n",
    "# Calculate EMA with different smoothing factors \n",
    "def cal_ema(price_list, smooth):\n",
    "    ema = []\n",
    "    alpha = 2 /(1 + smooth)\n",
    "\n",
    "    for i in range(len(price_list)):\n",
    "        if (i == 0):\n",
    "            ema.append((price_list[i] * alpha ))\n",
    "        else:\n",
    "            ema.append((price_list[i] * alpha ) + ema[i-1] * (1 - alpha ) )\n",
    "    return ema\n",
    "    \n",
    "\n",
    "# cal_ema(price_list, 38)"
   ]
  },
  {
   "cell_type": "code",
   "execution_count": 10,
   "metadata": {},
   "outputs": [
    {
     "name": "stdout",
     "output_type": "stream",
     "text": [
      "3368.1 3366.563196362603 3366.8417511393345\n",
      "3367.85 3366.5363657799053 3366.8258748791495\n",
      "3366.04 3366.4986034322174 3366.805560525107\n",
      "3365.8 3366.60636735877 3366.8410939800556\n",
      "3368.6 3366.7398869813974 3366.888003010153\n",
      "3369.21 3366.848097905428 3366.9268544356946\n",
      "3368.85 3366.9076826282267 3366.9483028627105\n",
      "3368.01 3366.9590835190866 3366.9673463703793\n",
      "3367.91 3367.040668979646 3366.9986860462136\n",
      "3368.55 3367.127814160177 3367.033167510645\n"
     ]
    }
   ],
   "source": [
    "tmp_38 = cal_ema(price_list[1:], 38)\n",
    "tmp_100 = cal_ema(price_list[1:], 100)\n",
    "\n",
    "for i in range(400, 410):    \n",
    "    print(price_list[i], tmp_38[i], tmp_100[i])"
   ]
  },
  {
   "cell_type": "code",
   "execution_count": 11,
   "metadata": {},
   "outputs": [
    {
     "data": {
      "image/png": "[encoded data removed]",
      "text/plain": [
       "<Figure size 1080x360 with 1 Axes>"
      ]
     },
     "metadata": {
      "needs_background": "light"
     },
     "output_type": "display_data"
    }
   ],
   "source": [
    "plt.rcParams['figure.figsize'] = [15, 5]\n",
    "\n",
    "# We do not start from zero for this visualization \n",
    "# plt.plot(np.arange(price.size-1), price[1:], alpha=0.5)\n",
    "plt.plot(np.arange(len(price_list)), cal_ema(price_list, 38), alpha=0.5)\n",
    "plt.plot(np.arange(len(price_list)), cal_ema(price_list, 100), alpha=0.5)\n",
    "\n",
    "plt.show()"
   ]
  },
  {
   "cell_type": "code",
   "execution_count": 12,
   "metadata": {},
   "outputs": [
    {
     "data": {
      "image/png": "[encoded data removed]",
      "text/plain": [
       "<Figure size 1080x360 with 1 Axes>"
      ]
     },
     "metadata": {
      "needs_background": "light"
     },
     "output_type": "display_data"
    }
   ],
   "source": [
    "plt.rcParams['figure.figsize'] = [15, 5]\n",
    "\n",
    "# We do not start from zero for this visualization \n",
    "# plt.plot(np.arange(price.size-1), price[1:], alpha=0.5)\n",
    "plt.plot(np.arange(len(price_list)), cal_ema(price_list, 38), alpha=0.5)\n",
    "plt.plot(np.arange(len(price_list)), cal_ema(price_list, 100), alpha=0.5)\n",
    "\n",
    "# We need to zoom in to see better. \n",
    "plt.xlim(300, 1000)\n",
    "plt.ylim(3340, 3390)\n",
    "plt.show()"
   ]
  },
  {
   "cell_type": "markdown",
   "metadata": {},
   "source": [
    "# Query 2 - Buy and Sell advice "
   ]
  },
  {
   "cell_type": "code",
   "execution_count": 13,
   "metadata": {},
   "outputs": [
    {
     "name": "stdout",
     "output_type": "stream",
     "text": [
      "sell  379\n",
      "buy  408\n",
      "sell  442\n",
      "buy  489\n",
      "sell  623\n",
      "buy  766\n",
      "sell  777\n",
      "buy  904\n"
     ]
    }
   ],
   "source": [
    "tmp_38 = cal_ema(price_list[1:], 38)\n",
    "tmp_100 = cal_ema(price_list[1:], 100)\n",
    "\n",
    "for i in range(1, len(tmp_38)):\n",
    "    if(tmp_38[i] > tmp_100[i] and tmp_38[i-1] <= tmp_100[i-1]):\n",
    "        print(\"buy \", i)\n",
    "    \n",
    "    if(tmp_38[i] < tmp_100[i] and tmp_38[i-1] >= tmp_100[i-1]):\n",
    "        print(\"sell \", i)"
   ]
  },
  {
   "cell_type": "code",
   "execution_count": null,
   "metadata": {},
   "outputs": [],
   "source": []
  }
 ],
 "metadata": {
  "kernelspec": {
   "display_name": "Python 3",
   "language": "python",
   "name": "python3"
  },
  "language_info": {
   "codemirror_mode": {
    "name": "ipython",
    "version": 3
   },
   "file_extension": ".py",
   "mimetype": "text/x-python",
   "name": "python",
   "nbconvert_exporter": "python",
   "pygments_lexer": "ipython3",
   "version": "3.8.3"
  }
 },
 "nbformat": 4,
 "nbformat_minor": 4
}
